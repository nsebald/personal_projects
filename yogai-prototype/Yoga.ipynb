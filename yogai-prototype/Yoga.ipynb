{
 "cells": [
  {
   "cell_type": "code",
   "execution_count": 50,
   "metadata": {},
   "outputs": [],
   "source": [
    "# pip install constants"
   ]
  },
  {
   "cell_type": "code",
   "execution_count": 51,
   "metadata": {},
   "outputs": [],
   "source": [
    "import openai\n",
    "import constants\n",
    "import os"
   ]
  },
  {
   "cell_type": "code",
   "execution_count": 52,
   "metadata": {},
   "outputs": [],
   "source": [
    "openai.api_key = constants.API_KEY"
   ]
  },
  {
   "cell_type": "code",
   "execution_count": 53,
   "metadata": {},
   "outputs": [],
   "source": [
    "def doctor(query):\n",
    "\n",
    "    # Create the client with params for OpenAI API\n",
    "    \"\"\"\n",
    "    Data generation with Open AI\n",
    "    \"\"\"\n",
    "    prompt = (\n",
    "        \"\"\"\n",
    "        You are a physiologist. Determine what weaknesses could exist in the body that led to the injury. Give me one response listing a body part and weakness. The response should be a short, single phrase. The injury is:\n",
    "        \"\"\"\n",
    "        + query\n",
    "    )\n",
    "\n",
    "    response = openai.completions.create(\n",
    "        model=\"gpt-3.5-turbo-instruct\", #we use the gpt 3.5 instruct for this task (the smallest one and only completion)\n",
    "        prompt=prompt,\n",
    "        max_tokens=1000, # max tokens for the response for your ask prompting\n",
    "        temperature=0,  # 0 to 1 by  step of 0.1 O deterministic, 1 is very creative\n",
    "    )\n",
    "\n",
    "    result = response.choices[0].text\n",
    "\n",
    "    return result\n"
   ]
  },
  {
   "cell_type": "code",
   "execution_count": 54,
   "metadata": {},
   "outputs": [],
   "source": [
    "new_query = doctor(\"hurt my finger\")"
   ]
  },
  {
   "cell_type": "code",
   "execution_count": 55,
   "metadata": {},
   "outputs": [
    {
     "data": {
      "text/plain": [
       "'\\n\\n\\nWeakness: Lack of flexibility in finger joints'"
      ]
     },
     "execution_count": 55,
     "metadata": {},
     "output_type": "execute_result"
    }
   ],
   "source": [
    "new_query"
   ]
  },
  {
   "cell_type": "code",
   "execution_count": 56,
   "metadata": {},
   "outputs": [],
   "source": [
    "def yogi_poses(query):\n",
    "\n",
    "    # Create the client with params for OpenAI API\n",
    "    \"\"\"\n",
    "    Data generation with Open AI\n",
    "    \"\"\"\n",
    "    prompt = (\n",
    "        \"\"\"\n",
    "        You are a yogi expert. Determine 3 yoga poses that can help resolve the following issue. Output format is a list of poses. The issue is:\n",
    "        \"\"\"\n",
    "        + query\n",
    "    )\n",
    "\n",
    "    response = openai.completions.create(\n",
    "        model=\"gpt-3.5-turbo-instruct\", #we use the gpt 3.5 instruct for this task (the smallest one and only completion)\n",
    "        prompt=prompt,\n",
    "        max_tokens=1000, # max tokens for the response for your ask prompting\n",
    "        temperature=0,  # 0 to 1 by  step of 0.1 O deterministic, 1 is very creative\n",
    "    )\n",
    "\n",
    "    result = response.choices[0].text\n",
    "\n",
    "    \n",
    "\n",
    "    return result"
   ]
  },
  {
   "cell_type": "code",
   "execution_count": 57,
   "metadata": {},
   "outputs": [],
   "source": [
    "poses = yogi_poses(new_query)"
   ]
  },
  {
   "cell_type": "code",
   "execution_count": 58,
   "metadata": {},
   "outputs": [
    {
     "data": {
      "text/plain": [
       "'\\n\\n1. Padangusthasana (Big Toe Pose)\\n2. Garudasana (Eagle Pose)\\n3. Gomukhasana (Cow Face Pose)'"
      ]
     },
     "execution_count": 58,
     "metadata": {},
     "output_type": "execute_result"
    }
   ],
   "source": [
    "poses"
   ]
  },
  {
   "cell_type": "code",
   "execution_count": 59,
   "metadata": {},
   "outputs": [],
   "source": [
    "pose_lines = [line.strip() for line in poses.split('\\n') if line.strip()]\n",
    "\n",
    "    # Extracting the pose names, assuming each line starts with a number followed by '.'\n",
    "pose_list = [line.split('. ', 1)[1] if '. ' in line else line for line in pose_lines]"
   ]
  },
  {
   "cell_type": "code",
   "execution_count": 78,
   "metadata": {},
   "outputs": [
    {
     "name": "stdout",
     "output_type": "stream",
     "text": [
      "Searching for: Padangusthasana (Big Toe Pose)\n",
      "Sending request to Pexels API...\n",
      "Received response with status code: 200\n",
      "{\"page\":1,\"per_page\":1,\"photos\":[{\"id\":6453516,\"width\":3935,\"height\":5902,\"url\":\"https://www.pexels.com/photo/flexible-woman-doing-yoga-in-toe-stand-pose-6453516/\",\"photographer\":\"Marta Wave\",\"photographer_url\":\"https://www.pexels.com/@marta-wave\",\"photographer_id\":3660586,\"avg_color\":\"#A9565E\",\"src\":{\"original\":\"https://images.pexels.com/photos/6453516/pexels-photo-6453516.jpeg\",\"large2x\":\"https://images.pexels.com/photos/6453516/pexels-photo-6453516.jpeg?auto=compress\\u0026cs=tinysrgb\\u0026dpr\n",
      "Searching for: Garudasana (Eagle Pose)\n",
      "Sending request to Pexels API...\n",
      "Received response with status code: 200\n",
      "{\"page\":1,\"per_page\":1,\"photos\":[{\"id\":7593034,\"width\":3360,\"height\":5040,\"url\":\"https://www.pexels.com/photo/unrecognizable-woman-practicing-eagle-pose-during-yoga-session-7593034/\",\"photographer\":\"Miriam Alonso\",\"photographer_url\":\"https://www.pexels.com/@miriam-alonso\",\"photographer_id\":48519342,\"avg_color\":\"#818778\",\"src\":{\"original\":\"https://images.pexels.com/photos/7593034/pexels-photo-7593034.jpeg\",\"large2x\":\"https://images.pexels.com/photos/7593034/pexels-photo-7593034.jpeg?auto=compress\n",
      "Searching for: Gomukhasana (Cow Face Pose)\n",
      "Sending request to Pexels API...\n",
      "Received response with status code: 200\n",
      "{\"page\":1,\"per_page\":1,\"photos\":[{\"id\":4132377,\"width\":3620,\"height\":5430,\"url\":\"https://www.pexels.com/photo/anonymous-woman-stretching-on-mat-in-room-4132377/\",\"photographer\":\"Ketut Subiyanto\",\"photographer_url\":\"https://www.pexels.com/@ketut-subiyanto\",\"photographer_id\":2515433,\"avg_color\":\"#8E8380\",\"src\":{\"original\":\"https://images.pexels.com/photos/4132377/pexels-photo-4132377.jpeg\",\"large2x\":\"https://images.pexels.com/photos/4132377/pexels-photo-4132377.jpeg?auto=compress\\u0026cs=tinysrgb\\\n",
      "Pose: Padangusthasana (Big Toe Pose)\n",
      "https://images.pexels.com/photos/6453516/pexels-photo-6453516.jpeg\n",
      "Pose: Garudasana (Eagle Pose)\n",
      "https://images.pexels.com/photos/7593034/pexels-photo-7593034.jpeg\n",
      "Pose: Gomukhasana (Cow Face Pose)\n",
      "https://images.pexels.com/photos/4132377/pexels-photo-4132377.jpeg\n"
     ]
    }
   ],
   "source": [
    "import requests\n",
    "import json\n",
    "\n",
    "pexels_api_key = constants.PEXELS_API\n",
    "\n",
    "def search_images(pexels_api_key, queries, per_page=10, page=1):\n",
    "    url = 'https://api.pexels.com/v1/search'\n",
    "    headers = {'Authorization': pexels_api_key}\n",
    "    query_photos = {}\n",
    "\n",
    "    for query in queries:\n",
    "        print(f\"Searching for: {query}\")\n",
    "        params = {\n",
    "            'query': query,\n",
    "            'per_page': per_page,\n",
    "            'page': page\n",
    "        }\n",
    "\n",
    "        try:\n",
    "            print(\"Sending request to Pexels API...\")\n",
    "            response = requests.get(url, headers=headers, params=params, timeout=10)\n",
    "            print(f\"Received response with status code: {response.status_code}\")\n",
    "\n",
    "            # Print the beginning of the response content to debug\n",
    "            print(response.text[:500])  # Print the first 500 characters of the response\n",
    "\n",
    "            if response.status_code == 200:\n",
    "                data = response.json()\n",
    "                for photo in data['photos']:\n",
    "                    photo_url = photo['src']['original']\n",
    "                    query_photos[query] = query_photos.get(query, []) + [photo_url]\n",
    "            else:\n",
    "                print(f\"Failed to fetch data for {query}: {response.status_code}\")\n",
    "\n",
    "        except requests.exceptions.Timeout:\n",
    "            print(\"Request to Pexels API timed out.\")\n",
    "        except requests.exceptions.RequestException as e:\n",
    "            print(f\"An error occurred: {e}\")\n",
    "\n",
    "    return query_photos\n",
    "\n",
    "# Example usage\n",
    "search_terms = pose_list\n",
    "results_per_page = 1\n",
    "page_number = 1\n",
    "\n",
    "photos_dict = search_images(pexels_api_key, search_terms, results_per_page, page_number)\n",
    "for query, photo_urls in photos_dict.items():\n",
    "    print(f\"Pose: {query}\")\n",
    "    for photo_url in photo_urls:\n",
    "        print(photo_url)\n"
   ]
  },
  {
   "cell_type": "code",
   "execution_count": 62,
   "metadata": {},
   "outputs": [],
   "source": [
    "def yoga_class(query):\n",
    "\n",
    "    # Create the client with params for OpenAI API\n",
    "\n",
    "    ClientOpenAi = openai.OpenAI(\n",
    "            api_key= openai.api_key,\n",
    "            organization= openai.organization\n",
    "        )\n",
    "    \"\"\"\n",
    "    Data generation with Open AI\n",
    "    \"\"\"\n",
    "    prompt = (\n",
    "        \"\"\"\n",
    "        Craft a monologue-driven script of a yoga class from the perspective of the intructor. Just include the speech from the instructor. Emphasize clear, instructional language that details how to safely enter and hold each pose, including any necessary adjustments or alignment cues. Incorporate motivational and affirming statements to encourage participants throughout the practice. Use just one pose to create a short class. Don't  mention the instructor's name.\n",
    "        \"\"\"\n",
    "        + query\n",
    "    )\n",
    "\n",
    "    response = openai.completions.create(\n",
    "        model=\"gpt-3.5-turbo-instruct\", #we use the gpt 3.5 instruct for this task (the smallest one and only completion)\n",
    "        prompt=prompt,\n",
    "        max_tokens=100, # max tokens for the response for your ask prompting\n",
    "        temperature=.5,  # 0 to 1 by  step of 0.1 O deterministic, 1 is very creative\n",
    "    )\n",
    "\n",
    "    result = response.choices[0].text\n",
    "\n",
    "    return result"
   ]
  },
  {
   "cell_type": "code",
   "execution_count": 71,
   "metadata": {},
   "outputs": [],
   "source": [
    "text = yoga_class(poses)"
   ]
  },
  {
   "cell_type": "code",
   "execution_count": 72,
   "metadata": {},
   "outputs": [
    {
     "data": {
      "text/plain": [
       "'\\n\\n\"Welcome everyone to our yoga class today. We are going to start with a pose that will help us ground and center ourselves. Please come to the top of your mat and stand with your feet hip distance apart. Take a deep breath in and as you exhale, slowly fold forward from your hips.\\n\\nBend your knees slightly and bring your hands to the floor. If your hands don\\'t reach the floor, you can place them on blocks or on your shins. Inhale and'"
      ]
     },
     "execution_count": 72,
     "metadata": {},
     "output_type": "execute_result"
    }
   ],
   "source": [
    "text"
   ]
  },
  {
   "cell_type": "code",
   "execution_count": 65,
   "metadata": {},
   "outputs": [],
   "source": [
    "# pip install elevenlabs==v1.0.0b1"
   ]
  },
  {
   "cell_type": "code",
   "execution_count": 73,
   "metadata": {},
   "outputs": [],
   "source": [
    "from elevenlabs.client import ElevenLabs\n",
    "\n",
    "\n",
    "# Create the client with your API key\n",
    "client = ElevenLabs(\n",
    "  api_key=constants.ELEVEN_API  # Replace 'your_api_key' with your actual API key\n",
    ")\n",
    "\n",
    "# Assuming you have already cloned a voice and have the voice ID\n",
    "voice = \"BqyrAbIbkSyoI8Crkpfl\" # This is actually a voice I tried to generate using my voice. A bit robotic\n",
    "\n",
    "# Generate the audio data\n",
    "audio_data_generator = client.generate(text=text, voice=voice)  \n",
    "\n",
    "# Convert the generator to bytes\n",
    "audio_data = b\"\".join(audio_data_generator)\n",
    "\n",
    "# play(audio_data_generator)\n",
    "\n",
    "#Write the audio data to a file\n",
    "with open('output_audio.mp3', 'wb') as audio_file:\n",
    "    audio_file.write(audio_data)\n"
   ]
  },
  {
   "cell_type": "code",
   "execution_count": null,
   "metadata": {},
   "outputs": [],
   "source": []
  }
 ],
 "metadata": {
  "kernelspec": {
   "display_name": "base",
   "language": "python",
   "name": "python3"
  },
  "language_info": {
   "codemirror_mode": {
    "name": "ipython",
    "version": 3
   },
   "file_extension": ".py",
   "mimetype": "text/x-python",
   "name": "python",
   "nbconvert_exporter": "python",
   "pygments_lexer": "ipython3",
   "version": "3.11.4"
  },
  "orig_nbformat": 4
 },
 "nbformat": 4,
 "nbformat_minor": 2
}
